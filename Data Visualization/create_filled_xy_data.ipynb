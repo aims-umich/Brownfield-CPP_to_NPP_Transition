{
 "cells": [
  {
   "cell_type": "code",
   "execution_count": null,
   "metadata": {},
   "outputs": [],
   "source": [
    "import pandas as pd\n",
    "\n",
    "df1 = pd.read_csv(\"BF_Complete_X.csv\")\n",
    "df2 = pd.read_csv(\"BF_CPP_XY_Data.csv\")\n",
    "\n",
    "df2_selected = df2.iloc[:, [-25, -24] + list(range(-23, 0))]  # Selecting x, y, and last 23 columns\n",
    "merged_df = df1.merge(df2_selected, on=['x', 'y'], how='left')\n",
    "\n",
    "# Append the last 265 rows of df2 to the merged dataframe\n",
    "df2_last_265 = df2.tail(265)\n",
    "final_df = pd.concat([merged_df, df2_last_265], ignore_index=True)"
   ]
  }
 ],
 "metadata": {
  "kernelspec": {
   "display_name": "Python 3",
   "language": "python",
   "name": "python3"
  },
  "language_info": {
   "name": "python",
   "version": "3.9.4"
  }
 },
 "nbformat": 4,
 "nbformat_minor": 2
}
