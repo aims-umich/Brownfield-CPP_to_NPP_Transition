{
 "cells": [
  {
   "cell_type": "code",
   "execution_count": 7,
   "metadata": {},
   "outputs": [],
   "source": [
    "import pandas as pd\n",
    "import numpy as np"
   ]
  },
  {
   "cell_type": "code",
   "execution_count": 8,
   "metadata": {},
   "outputs": [
    {
     "name": "stdout",
     "output_type": "stream",
     "text": [
      "15792\n"
     ]
    }
   ],
   "source": [
    "initial_df = pd.read_csv('Complete_BF_CPP_XY_Data.csv')\n",
    "complete_df = initial_df.drop_duplicates(subset=[initial_df.columns[1], initial_df.columns[2]], keep='first').reset_index(drop=True)\n",
    "print(len(complete_df))"
   ]
  },
  {
   "cell_type": "code",
   "execution_count": 9,
   "metadata": {},
   "outputs": [],
   "source": [
    "# Interpolator takes a train_df, and uses 4 inputs as longitude, latitude, county_fips and state_fips. It outputs 22 interpolated outputs.\n",
    "# Define the function\n",
    "def get_location_data(df, longitude, latitude, county_fips, state_fips):\n",
    "    # Filter for rows with the specified state FIPS\n",
    "    matched_rows = df[df.iloc[:, 4] == state_fips]\n",
    "    \n",
    "    # Initialize outputs with zeros for indices not yet computed\n",
    "    outputs = [0] * 22\n",
    "\n",
    "    if not matched_rows.empty:\n",
    "        # Get the first match for specified columns\n",
    "        matched_row = matched_rows.iloc[0]\n",
    "        outputs[0] = matched_row.iloc[5]   # 5th column in df\n",
    "        outputs[1] = matched_row.iloc[6]   # 6th column in df\n",
    "        outputs[2] = matched_row.iloc[7]   # 7th column in df\n",
    "        outputs[3] = matched_row.iloc[8]   # 8th column in df\n",
    "        outputs[5] = matched_row.iloc[10]  # 10th column in df\n",
    "        outputs[6] = matched_row.iloc[11]  # 11th column in df\n",
    "\n",
    "    # Filter for rows with the same county FIPS\n",
    "    county_rows = df[df.iloc[:, 3] == county_fips]  # Adjusted column for county FIPS\n",
    "\n",
    "    # Compute the Euclidean distance for each row in county_rows\n",
    "    if not county_rows.empty:\n",
    "        distances = np.sqrt((county_rows.iloc[:, 1] - longitude) ** 2 + (county_rows.iloc[:, 2] - latitude) ** 2)\n",
    "        \n",
    "        if len(county_rows) == 1:\n",
    "            # Single entry in the same county\n",
    "            single_row = county_rows.iloc[0]\n",
    "            outputs[4] = single_row.iloc[9]\n",
    "            outputs[7] = single_row.iloc[12]\n",
    "            outputs[8] = single_row.iloc[13]\n",
    "            outputs[14] = single_row.iloc[19]\n",
    "            outputs[16] = single_row.iloc[21]\n",
    "            outputs[17] = single_row.iloc[22]\n",
    "            outputs[18] = single_row.iloc[23]\n",
    "            outputs[19] = single_row.iloc[24]\n",
    "            outputs[20] = single_row.iloc[25]\n",
    "\n",
    "            outputs[9] = single_row.iloc[14]\n",
    "            outputs[10] = single_row.iloc[15]\n",
    "            outputs[11] = single_row.iloc[16]\n",
    "            outputs[12] = single_row.iloc[17]\n",
    "            outputs[13] = single_row.iloc[18]\n",
    "            outputs[15] = single_row.iloc[20]\n",
    "            outputs[21] = single_row.iloc[26]\n",
    "        \n",
    "        else:\n",
    "            # More than one entry in the same county, select the two closest entries\n",
    "            closest_indices = distances.nsmallest(2).index\n",
    "            loc1 = county_rows.loc[closest_indices[0]]\n",
    "            loc2 = county_rows.loc[closest_indices[1]]\n",
    "            \n",
    "            # Calculate distances for interpolation weights\n",
    "            dist1 = distances.loc[closest_indices[0]]\n",
    "            dist2 = distances.loc[closest_indices[1]]\n",
    "            weight1 = dist2 / (dist1 + dist2)\n",
    "            weight2 = dist1 / (dist1 + dist2)\n",
    "            \n",
    "            # Perform linear interpolation for each specified output index\n",
    "            outputs[4] = loc1.iloc[9] * weight1 + loc2.iloc[9] * weight2\n",
    "            outputs[7] = loc1.iloc[12] * weight1 + loc2.iloc[12] * weight2\n",
    "            outputs[8] = loc1.iloc[13] * weight1 + loc2.iloc[13] * weight2\n",
    "            outputs[14] = loc1.iloc[19] * weight1 + loc2.iloc[19] * weight2\n",
    "            outputs[16] = loc1.iloc[21] * weight1 + loc2.iloc[21] * weight2\n",
    "            outputs[17] = loc1.iloc[22] * weight1 + loc2.iloc[22] * weight2\n",
    "            outputs[18] = loc1.iloc[23] * weight1 + loc2.iloc[23] * weight2\n",
    "            outputs[19] = loc1.iloc[24] * weight1 + loc2.iloc[24] * weight2\n",
    "            outputs[20] = loc1.iloc[25] * weight1 + loc2.iloc[25] * weight2\n",
    "    \n",
    "            outputs[9] = loc1.iloc[14] * weight1 + loc2.iloc[14] * weight2\n",
    "            outputs[10] = loc1.iloc[15] * weight1 + loc2.iloc[15] * weight2\n",
    "            outputs[11] = loc1.iloc[16] * weight1 + loc2.iloc[16] * weight2\n",
    "            outputs[12] = loc1.iloc[17] * weight1 + loc2.iloc[17] * weight2\n",
    "            outputs[13] = loc1.iloc[18] * weight1 + loc2.iloc[18] * weight2\n",
    "            outputs[15] = loc1.iloc[20] * weight1 + loc2.iloc[20] * weight2\n",
    "            outputs[21] = loc1.iloc[26] * weight1 + loc2.iloc[26] * weight2\n",
    "\n",
    "    else:\n",
    "        # No entry with the same county FIPS, find the 2 closest locations across the whole dataset\n",
    "        distances_all = np.sqrt((df.iloc[:, 1] - longitude) ** 2 + (df.iloc[:, 2] - latitude) ** 2)\n",
    "        closest_indices_all = distances_all.nsmallest(2).index\n",
    "        loc1 = df.loc[closest_indices_all[0]]\n",
    "        loc2 = df.loc[closest_indices_all[1]]\n",
    "        \n",
    "        # Calculate distances for interpolation weights\n",
    "        dist1 = distances_all[closest_indices_all[0]]\n",
    "        dist2 = distances_all[closest_indices_all[1]]\n",
    "        weight1 = dist2 / (dist1 + dist2)\n",
    "        weight2 = dist1 / (dist1 + dist2)\n",
    "        \n",
    "        # Perform interpolation\n",
    "        outputs[4] = loc1.iloc[9] * weight1 + loc2.iloc[9] * weight2\n",
    "        outputs[7] = loc1.iloc[12] * weight1 + loc2.iloc[12] * weight2\n",
    "        outputs[8] = loc1.iloc[13] * weight1 + loc2.iloc[13] * weight2\n",
    "        outputs[14] = loc1.iloc[19] * weight1 + loc2.iloc[19] * weight2\n",
    "        outputs[16] = loc1.iloc[21] * weight1 + loc2.iloc[21] * weight2\n",
    "        outputs[17] = loc1.iloc[22] * weight1 + loc2.iloc[22] * weight2\n",
    "        outputs[18] = loc1.iloc[23] * weight1 + loc2.iloc[23] * weight2\n",
    "        outputs[19] = loc1.iloc[24] * weight1 + loc2.iloc[24] * weight2\n",
    "        outputs[20] = loc1.iloc[25] * weight1 + loc2.iloc[25] * weight2\n",
    "\n",
    "        outputs[9] = loc1.iloc[14] * weight1 + loc2.iloc[14] * weight2\n",
    "        outputs[10] = loc1.iloc[15] * weight1 + loc2.iloc[15] * weight2\n",
    "        outputs[11] = loc1.iloc[16] * weight1 + loc2.iloc[16] * weight2\n",
    "        outputs[12] = loc1.iloc[17] * weight1 + loc2.iloc[17] * weight2\n",
    "        outputs[13] = loc1.iloc[18] * weight1 + loc2.iloc[18] * weight2\n",
    "        outputs[15] = loc1.iloc[20] * weight1 + loc2.iloc[20] * weight2\n",
    "        outputs[21] = loc1.iloc[26] * weight1 + loc2.iloc[26] * weight2\n",
    "\n",
    "    # Round specified indices before returning\n",
    "    outputs[0] = int(round(outputs[0]))\n",
    "    outputs[3] = int(round(outputs[3]))\n",
    "    outputs[5] = int(round(outputs[5]))\n",
    "    outputs[18] = int(round(outputs[18]))\n",
    "\n",
    "    outputs[9] = int(round(outputs[9]))\n",
    "    outputs[10] = int(round(outputs[10]))\n",
    "    outputs[11] = int(round(outputs[11]))\n",
    "    outputs[12] = int(round(outputs[12]))\n",
    "    outputs[13] = int(round(outputs[13]))\n",
    "    outputs[15] = int(round(outputs[15]))\n",
    "    outputs[20] = int(round(outputs[20]))\n",
    "\n",
    "    # Remove indices 9, 10, 11, 12, 13, 15, and 21\n",
    "    #for index in sorted([21, 15, 13, 12, 11, 10, 9], reverse=True):\n",
    "    #    del outputs[index]\n",
    "\n",
    "    return outputs"
   ]
  },
  {
   "cell_type": "code",
   "execution_count": 10,
   "metadata": {},
   "outputs": [
    {
     "name": "stdout",
     "output_type": "stream",
     "text": [
      "[0, 9.31923076923077, -5401.0, 0, 0.28898115180657524, 1, 37572.0, 0.0, 2.1763964909602795, 1, 1, 1, 0, 1, 0.4045521815239518, 1, 4.078753349496401, 57.58192338913222, 0, 0.8555120539666661, 2, 1.0]\n"
     ]
    }
   ],
   "source": [
    "# Example usage\n",
    "# Replace with actual longitude, latitude, county_fips, and state_fips values as needed\n",
    "result = get_location_data(complete_df, longitude=-92.366, latitude=42.537, county_fips=19013, state_fips=19) # index 10563 in excel data table \n",
    "print(result)"
   ]
  },
  {
   "cell_type": "code",
   "execution_count": 11,
   "metadata": {},
   "outputs": [],
   "source": [
    "from sklearn.metrics import mean_absolute_error, mean_squared_error, r2_score\n",
    "from sklearn.model_selection import train_test_split"
   ]
  },
  {
   "cell_type": "code",
   "execution_count": 22,
   "metadata": {},
   "outputs": [],
   "source": [
    "# Split the dataset into training (85%) and test (15%) sets\n",
    "train_df, test_df = train_test_split(complete_df, test_size=0.15, random_state=42)\n",
    "\n",
    "# Extract input columns (longitude, latitude, county_fips, state_fips)\n",
    "train_inputs = train_df.iloc[:, [1, 2, 3, 4]].values\n",
    "test_inputs = test_df.iloc[:, [1, 2, 3, 4]].values\n",
    "\n",
    "# Run predictions with the function on test inputs, using train_df as the df for interpolation\n",
    "predictions = np.array([get_location_data(train_df, *inputs) for inputs in test_inputs])"
   ]
  },
  {
   "cell_type": "code",
   "execution_count": 23,
   "metadata": {},
   "outputs": [],
   "source": [
    "# Extract objective columns for the test set\n",
    "# Select only the columns [0, 1, 2, 3, 4, 5, 6, 7, 8, 14, 16, 17, 18, 19, 20] for comparison\n",
    "test_targets = test_df.iloc[:, [5, 6, 7, 8, 9, 10, 11, 12, 13, 19, 21, 22, 23, 24, 25]].values\n",
    "binary_targets = test_df.iloc[:, [14, 15, 16, 17, 18, 20, 26]].values\n",
    "\n",
    "L_predictions = predictions[:,[0,1,2,3,4,5,6,7,8,14,16,17,18,19,20]]\n",
    "B_predictions = predictions[:,[9, 10, 11, 12, 13, 15, 21]]"
   ]
  },
  {
   "cell_type": "code",
   "execution_count": 24,
   "metadata": {},
   "outputs": [
    {
     "name": "stdout",
     "output_type": "stream",
     "text": [
      "Mean Absolute Error (MAE): 0.5568929354730567\n",
      "Mean Squared Error (MSE): 6.9679600240699155\n",
      "Root Mean Squared Error (RMSE): 2.639689380224483\n",
      "R-squared (R2): 0.8151878980557999\n"
     ]
    }
   ],
   "source": [
    "# Calculate error metrics\n",
    "mae = mean_absolute_error(test_targets, L_predictions)\n",
    "mse = mean_squared_error(test_targets, L_predictions)\n",
    "rmse = np.sqrt(mse)\n",
    "r2 = r2_score(test_targets, L_predictions)\n",
    "\n",
    "# Print the results\n",
    "print(\"Mean Absolute Error (MAE):\", mae)\n",
    "print(\"Mean Squared Error (MSE):\", mse)\n",
    "print(\"Root Mean Squared Error (RMSE):\", rmse)\n",
    "print(\"R-squared (R2):\", r2)"
   ]
  },
  {
   "cell_type": "code",
   "execution_count": 27,
   "metadata": {},
   "outputs": [
    {
     "name": "stdout",
     "output_type": "stream",
     "text": [
      "Accuracy for column 1: 0.9899\n",
      "Accuracy for column 2: 0.9472\n",
      "Accuracy for column 3: 0.9954\n",
      "Accuracy for column 4: 0.9498\n",
      "Accuracy for column 5: 0.8907\n",
      "Accuracy for column 6: 0.9316\n",
      "Accuracy for column 7: 0.9747\n"
     ]
    }
   ],
   "source": [
    "from sklearn.metrics import accuracy_score\n",
    "binary_predictions = (B_predictions >= 0.5).astype(int)\n",
    "# Loop through each column index and calculate accuracy\n",
    "for i in range(binary_targets.shape[1]):\n",
    "    accuracy = accuracy_score(binary_targets[:, i], binary_predictions[:, i])\n",
    "    print(f\"Accuracy for column {i + 1}: {accuracy:.4f}\")"
   ]
  }
 ],
 "metadata": {
  "kernelspec": {
   "display_name": "Python 3",
   "language": "python",
   "name": "python3"
  },
  "language_info": {
   "codemirror_mode": {
    "name": "ipython",
    "version": 3
   },
   "file_extension": ".py",
   "mimetype": "text/x-python",
   "name": "python",
   "nbconvert_exporter": "python",
   "pygments_lexer": "ipython3",
   "version": "3.9.4"
  }
 },
 "nbformat": 4,
 "nbformat_minor": 2
}
