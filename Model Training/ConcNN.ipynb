{
 "cells": [
  {
   "cell_type": "code",
   "execution_count": 17,
   "metadata": {},
   "outputs": [],
   "source": [
    "import numpy as np\n",
    "import pandas as pd\n",
    "import matplotlib.pyplot as plt\n",
    "from time import time\n",
    "#Sklearn tools\n",
    "from sklearn.metrics import mean_absolute_error, mean_absolute_percentage_error\n",
    "from sklearn.metrics import mean_squared_error, r2_score\n",
    "from sklearn.preprocessing import MinMaxScaler, StandardScaler\n",
    "from sklearn.model_selection import train_test_split\n",
    "#Keras specials\n",
    "import tensorflow as tf\n",
    "from tensorflow.keras.models import Sequential, load_model, Model\n",
    "from tensorflow.keras.layers import Dropout, Input, Dense, Concatenate, Lambda\n",
    "from tensorflow.keras.optimizers import Adam\n",
    "from tensorflow.keras.callbacks import ReduceLROnPlateau, EarlyStopping, ModelCheckpoint\n",
    "from tensorflow.keras.backend import round as k_round\n",
    "from tensorflow.keras.losses import MeanSquaredError, BinaryCrossentropy\n",
    "from sklearn.model_selection import train_test_split"
   ]
  },
  {
   "cell_type": "code",
   "execution_count": 18,
   "metadata": {},
   "outputs": [
    {
     "name": "stderr",
     "output_type": "stream",
     "text": [
      "C:\\Users\\Omer\\AppData\\Local\\Temp\\ipykernel_20548\\3693406356.py:1: DtypeWarning: Columns (0) have mixed types. Specify dtype option on import or set low_memory=False.\n",
      "  df_x = pd.read_csv(\"Complete_BF_CPP_XY_Data.csv\")\n"
     ]
    }
   ],
   "source": [
    "df_x = pd.read_csv(\"Complete_BF_CPP_XY_Data.csv\")"
   ]
  },
  {
   "cell_type": "code",
   "execution_count": 19,
   "metadata": {},
   "outputs": [
    {
     "name": "stdout",
     "output_type": "stream",
     "text": [
      "Total NaN values: 0\n",
      "\n",
      "NaN count per column:\n",
      "Series([], dtype: int64)\n"
     ]
    }
   ],
   "source": [
    "# Count NaN values per column\n",
    "nan_counts = df_x.isna().sum()\n",
    "\n",
    "# Total number of NaN values\n",
    "total_nans = nan_counts.sum()\n",
    "\n",
    "# Display columns with NaN values\n",
    "nan_columns = nan_counts[nan_counts > 0]\n",
    "\n",
    "# Display rows with NaN values\n",
    "nan_rows = df_x[df_x.isna().any(axis=1)]\n",
    "\n",
    "# Print results\n",
    "print(f\"Total NaN values: {total_nans}\")\n",
    "print(\"\\nNaN count per column:\")\n",
    "print(nan_columns)"
   ]
  },
  {
   "cell_type": "code",
   "execution_count": 20,
   "metadata": {},
   "outputs": [
    {
     "name": "stdout",
     "output_type": "stream",
     "text": [
      "Empty DataFrame\n",
      "Columns: [Row Index, Column Name]\n",
      "Index: []\n"
     ]
    }
   ],
   "source": [
    "# Find positions of NaN values\n",
    "nan_positions = np.where(df_x.isna())\n",
    "\n",
    "# Convert positions into a readable DataFrame\n",
    "nan_locations = pd.DataFrame({\n",
    "    \"Row Index\": nan_positions[0],\n",
    "    \"Column Name\": df_x.columns[nan_positions[1]]\n",
    "})\n",
    "\n",
    "print(nan_locations)"
   ]
  },
  {
   "cell_type": "code",
   "execution_count": 21,
   "metadata": {},
   "outputs": [],
   "source": [
    "X = df_x.iloc[:, 1:5]  # X data (4 features: coordinate x-y, state, and county)\n",
    "Y_layer1 = df_x.iloc[:, 5:27]  # Y1 data (22 features: site objective values)\n",
    "Y2 = df_x.iloc[:, 27:]\n",
    "\n",
    "binary_indices = [3, 5, 9, 10, 11, 12, 13, 21]\n",
    "float_indices = [i for i in range(22) if i not in binary_indices]\n",
    "\n",
    "YL = Y_layer1.iloc[:, float_indices]\n",
    "YB = Y_layer1.iloc[:, binary_indices]\n",
    "\n",
    "X_scaler = StandardScaler()\n",
    "X_scaled = X_scaler.fit_transform(X)\n",
    "YL_scaler = StandardScaler()\n",
    "YL_scaled = YL_scaler.fit_transform(YL)\n",
    "Y2_scaler = StandardScaler()\n",
    "Y2_scaled = Y2_scaler.fit_transform(Y2)\n",
    "\n",
    "Y1_combined = pd.concat([pd.DataFrame(YL_scaled), pd.DataFrame(YB)], axis=1)\n",
    "\n",
    "# Combine Y1 and Y2 temporarily for consistent splitting\n",
    "Y_combined = pd.concat([pd.DataFrame(Y1_combined), pd.DataFrame(Y2_scaled)], axis=1)\n",
    "\n",
    "# Train-test split\n",
    "X_train, X_test, Y_train, Y_test = train_test_split(X_scaled, Y_combined, test_size=0.2, random_state=42)\n",
    "\n",
    "# Separate Y1 and Y2 back after splitting\n",
    "Y1_train = Y_train.iloc[:, :Y1_combined.shape[1]]  # Extract Y1 part\n",
    "Y2_train = Y_train.iloc[:, Y1_combined.shape[1]:].values  # Extract Y2 part\n",
    "\n",
    "Y1_test = Y_test.iloc[:, :Y1_combined.shape[1]]  # Extract Y1 part\n",
    "Y2_test = Y_test.iloc[:, Y1_combined.shape[1]:].values  # Extract Y2 part\n",
    "\n",
    "# print(len(Y1_train.values[0])) # 22\n",
    "# print(len(float_indices)) # 14\n",
    "\n",
    "YL_train, YB_train = Y1_train.values[:, :len(float_indices)], Y1_train.values[:, len(float_indices):]\n",
    "YL_test, YB_test = Y1_test.values[:, :len(float_indices)], Y1_test.values[:, len(float_indices):]\n"
   ]
  },
  {
   "cell_type": "code",
   "execution_count": 22,
   "metadata": {},
   "outputs": [
    {
     "name": "stdout",
     "output_type": "stream",
     "text": [
      "[-0.15606184  0.61222438 -0.59649565 -0.60001106]\n"
     ]
    }
   ],
   "source": [
    "print(X_test[0,:])"
   ]
  },
  {
   "cell_type": "code",
   "execution_count": 23,
   "metadata": {},
   "outputs": [
    {
     "name": "stdout",
     "output_type": "stream",
     "text": [
      "[-0.50211636 -0.92680966 -0.30736793 -0.86397954 -0.35133414 -0.63748399\n",
      " -0.85264835 -0.57426053  0.20627021 -0.54082277  0.00566712 -0.46805828\n",
      " -0.18774772  0.85601048]\n"
     ]
    }
   ],
   "source": [
    "print(YL_test[0,:])"
   ]
  },
  {
   "cell_type": "code",
   "execution_count": 24,
   "metadata": {},
   "outputs": [
    {
     "name": "stdout",
     "output_type": "stream",
     "text": [
      "[0. 1. 1. 1. 1. 0. 1. 1.]\n"
     ]
    }
   ],
   "source": [
    "print(YB_test[0,:])"
   ]
  },
  {
   "cell_type": "code",
   "execution_count": 25,
   "metadata": {},
   "outputs": [
    {
     "name": "stdout",
     "output_type": "stream",
     "text": [
      "[ 0.61406174 -0.80452369 -0.80657463 -0.87345736 -0.63849199  0.98552883\n",
      " -0.8732135   0.99507988 -0.5799042   0.3940368   0.82714965  0.45363508\n",
      " -0.58402721  0.41925051 -0.64089488  0.41693887 -0.62372792 -0.74953046\n",
      " -0.67855653 -0.63543443 -0.89780629  0.53618529 -0.44230068]\n"
     ]
    }
   ],
   "source": [
    "print(Y2_test[0,:])"
   ]
  },
  {
   "cell_type": "code",
   "execution_count": 26,
   "metadata": {},
   "outputs": [
    {
     "name": "stdout",
     "output_type": "stream",
     "text": [
      "[0. 1.]\n"
     ]
    }
   ],
   "source": [
    "assert not np.any(np.isnan(X_train)), \"Training data contains NaN values\"\n",
    "assert not np.any(np.isnan(YL_train)), \"YL_train contains NaN values\"\n",
    "assert not np.any(np.isnan(YB_train)), \"YB_train contains NaN values\"\n",
    "print(np.unique(YB_train))"
   ]
  },
  {
   "cell_type": "code",
   "execution_count": 27,
   "metadata": {},
   "outputs": [
    {
     "name": "stdout",
     "output_type": "stream",
     "text": [
      "Model: \"Concatenated_Model\"\n",
      "__________________________________________________________________________________________________\n",
      " Layer (type)                   Output Shape         Param #     Connected to                     \n",
      "==================================================================================================\n",
      " Input_Layer (InputLayer)       [(None, 4)]          0           []                               \n",
      "                                                                                                  \n",
      " Dense_Layer_1 (Dense)          (None, 800)          4000        ['Input_Layer[0][0]']            \n",
      "                                                                                                  \n",
      " Dense_Layer_2 (Dense)          (None, 800)          640800      ['Dense_Layer_1[0][0]']          \n",
      "                                                                                                  \n",
      " Dense_Layer_3 (Dense)          (None, 700)          560700      ['Dense_Layer_2[0][0]']          \n",
      "                                                                                                  \n",
      " Dense_Layer_4 (Dense)          (None, 700)          490700      ['Dense_Layer_3[0][0]']          \n",
      "                                                                                                  \n",
      " Dense_Layer_5 (Dense)          (None, 600)          420600      ['Dense_Layer_4[0][0]']          \n",
      "                                                                                                  \n",
      " Dense_Layer_6 (Dense)          (None, 600)          360600      ['Dense_Layer_5[0][0]']          \n",
      "                                                                                                  \n",
      " Output_Linear (Dense)          (None, 14)           8414        ['Dense_Layer_6[0][0]']          \n",
      "                                                                                                  \n",
      " Output_Sigmoid (Dense)         (None, 8)            4808        ['Dense_Layer_6[0][0]']          \n",
      "                                                                                                  \n",
      " Concatenate_Layer1 (Concatenat  (None, 22)          0           ['Output_Linear[0][0]',          \n",
      " e)                                                               'Output_Sigmoid[0][0]']         \n",
      "                                                                                                  \n",
      " Concatenate_Layer2 (Concatenat  (None, 26)          0           ['Input_Layer[0][0]',            \n",
      " e)                                                               'Concatenate_Layer1[0][0]']     \n",
      "                                                                                                  \n",
      " Dense_Layer_7 (Dense)          (None, 400)          10800       ['Concatenate_Layer2[0][0]']     \n",
      "                                                                                                  \n",
      " Dense_Layer_8 (Dense)          (None, 350)          140350      ['Dense_Layer_7[0][0]']          \n",
      "                                                                                                  \n",
      " Dense_Layer_9 (Dense)          (None, 300)          105300      ['Dense_Layer_8[0][0]']          \n",
      "                                                                                                  \n",
      " Output_Layer_2 (Dense)         (None, 23)           6923        ['Dense_Layer_9[0][0]']          \n",
      "                                                                                                  \n",
      "==================================================================================================\n",
      "Total params: 2,753,995\n",
      "Trainable params: 2,753,995\n",
      "Non-trainable params: 0\n",
      "__________________________________________________________________________________________________\n"
     ]
    }
   ],
   "source": [
    "input_layer = Input(shape=(4,), name=\"Input_Layer\")\n",
    "x = Dense(800, activation='relu', name=\"Dense_Layer_1\")(input_layer)\n",
    "x = Dense(800, activation='relu', name=\"Dense_Layer_2\")(x)\n",
    "x = Dense(700, activation='relu', name=\"Dense_Layer_3\")(x)\n",
    "x = Dense(700, activation='relu', name=\"Dense_Layer_4\")(x)\n",
    "x = Dense(600, activation='relu', name=\"Dense_Layer_5\")(x)\n",
    "x = Dense(600, activation='relu', name=\"Dense_Layer_6\")(x)\n",
    "output_L = Dense(14, activation='linear', name=\"Output_Linear\")(x)\n",
    "output_B = Dense(8, activation='sigmoid', name=\"Output_Sigmoid\")(x)\n",
    "# output_B_binary = Lambda(lambda x: tf.cast(x > 0.5, tf.float32), name=\"Binarize_Layer\")(output_B)\n",
    "\n",
    "# Define the second neural network (Network 2)\n",
    "# Network 2 takes the 4 original inputs and the 22 outputs from Network 1\n",
    "concat_Y1 = Concatenate(name=\"Concatenate_Layer1\")([output_L, output_B])\n",
    "concat_inputs = Concatenate(name=\"Concatenate_Layer2\")([input_layer, concat_Y1])\n",
    "x2 = Dense(400, activation='relu', name=\"Dense_Layer_7\")(concat_inputs)\n",
    "x2 = Dense(350, activation='relu', name=\"Dense_Layer_8\")(x2)\n",
    "x2 = Dense(300, activation='relu', name=\"Dense_Layer_9\")(x2)\n",
    "output_2 = Dense(23, activation='linear', name=\"Output_Layer_2\")(x2)\n",
    "\n",
    "# Create a model that includes both networks\n",
    "model = Model(inputs=input_layer, outputs=[output_L, output_B, output_2], name=\"Concatenated_Model\")\n",
    "\n",
    "# Compile the model\n",
    "# We use two losses, one for each output (Network 1's and Network 2's predictions)\n",
    "optimizer = Adam(learning_rate=1e-3, clipvalue=1.0)\n",
    "model.compile(optimizer=optimizer, loss=['mse', 'binary_crossentropy', 'mse'])\n",
    "\n",
    "# Print the model summary to verify the structure\n",
    "model.summary()"
   ]
  },
  {
   "cell_type": "markdown",
   "metadata": {},
   "source": [
    "EXPLAIN THE LAYERS HERE, CONCATENATE_LAYER2 MEANS, 1 MEANS: OUT2 MEANS:"
   ]
  },
  {
   "cell_type": "code",
   "execution_count": null,
   "metadata": {},
   "outputs": [
    {
     "name": "stdout",
     "output_type": "stream",
     "text": [
      "Epoch 1/100\n",
      "108/108 [==============================] - 10s 72ms/step - loss: 1.7326 - Output_Linear_loss: 0.6411 - Output_Sigmoid_loss: 0.3069 - Output_Layer_2_loss: 0.7846\n",
      "Epoch 2/100\n",
      "108/108 [==============================] - 5s 50ms/step - loss: 1.3315 - Output_Linear_loss: 0.4709 - Output_Sigmoid_loss: 0.1993 - Output_Layer_2_loss: 0.6613\n",
      "Epoch 3/100\n",
      "108/108 [==============================] - 5s 49ms/step - loss: 1.2269 - Output_Linear_loss: 0.4309 - Output_Sigmoid_loss: 0.1737 - Output_Layer_2_loss: 0.6223\n",
      "Epoch 4/100\n",
      "108/108 [==============================] - 5s 50ms/step - loss: 1.1776 - Output_Linear_loss: 0.4102 - Output_Sigmoid_loss: 0.1632 - Output_Layer_2_loss: 0.6041\n",
      "Epoch 5/100\n",
      "108/108 [==============================] - 5s 50ms/step - loss: 1.1309 - Output_Linear_loss: 0.3892 - Output_Sigmoid_loss: 0.1549 - Output_Layer_2_loss: 0.5869\n",
      "Epoch 6/100\n",
      "108/108 [==============================] - 5s 49ms/step - loss: 1.1060 - Output_Linear_loss: 0.3781 - Output_Sigmoid_loss: 0.1501 - Output_Layer_2_loss: 0.5778\n",
      "Epoch 7/100\n",
      "108/108 [==============================] - 8s 76ms/step - loss: 1.0700 - Output_Linear_loss: 0.3587 - Output_Sigmoid_loss: 0.1454 - Output_Layer_2_loss: 0.5659\n",
      "Epoch 8/100\n",
      "108/108 [==============================] - 5s 49ms/step - loss: 1.0503 - Output_Linear_loss: 0.3518 - Output_Sigmoid_loss: 0.1420 - Output_Layer_2_loss: 0.5565\n",
      "Epoch 9/100\n",
      "108/108 [==============================] - 5s 44ms/step - loss: 1.0279 - Output_Linear_loss: 0.3429 - Output_Sigmoid_loss: 0.1383 - Output_Layer_2_loss: 0.5467\n",
      "Epoch 10/100\n",
      "108/108 [==============================] - 4s 38ms/step - loss: 1.0100 - Output_Linear_loss: 0.3352 - Output_Sigmoid_loss: 0.1354 - Output_Layer_2_loss: 0.5394\n",
      "Epoch 11/100\n",
      "108/108 [==============================] - 5s 42ms/step - loss: 1.0144 - Output_Linear_loss: 0.3422 - Output_Sigmoid_loss: 0.1344 - Output_Layer_2_loss: 0.5378\n",
      "Epoch 12/100\n",
      "108/108 [==============================] - 4s 41ms/step - loss: 0.9952 - Output_Linear_loss: 0.3308 - Output_Sigmoid_loss: 0.1324 - Output_Layer_2_loss: 0.5319\n",
      "Epoch 13/100\n",
      "108/108 [==============================] - 5s 42ms/step - loss: 0.9776 - Output_Linear_loss: 0.3271 - Output_Sigmoid_loss: 0.1294 - Output_Layer_2_loss: 0.5211\n",
      "Epoch 14/100\n",
      "108/108 [==============================] - 4s 40ms/step - loss: 0.9552 - Output_Linear_loss: 0.3143 - Output_Sigmoid_loss: 0.1274 - Output_Layer_2_loss: 0.5136\n",
      "Epoch 15/100\n",
      "108/108 [==============================] - 5s 47ms/step - loss: 0.9456 - Output_Linear_loss: 0.3116 - Output_Sigmoid_loss: 0.1252 - Output_Layer_2_loss: 0.5087\n",
      "Epoch 16/100\n",
      "108/108 [==============================] - 5s 47ms/step - loss: 0.9385 - Output_Linear_loss: 0.3072 - Output_Sigmoid_loss: 0.1238 - Output_Layer_2_loss: 0.5075\n",
      "Epoch 17/100\n",
      "108/108 [==============================] - 5s 48ms/step - loss: 0.9275 - Output_Linear_loss: 0.3018 - Output_Sigmoid_loss: 0.1226 - Output_Layer_2_loss: 0.5031\n",
      "Epoch 18/100\n",
      "108/108 [==============================] - 6s 52ms/step - loss: 0.9125 - Output_Linear_loss: 0.2978 - Output_Sigmoid_loss: 0.1204 - Output_Layer_2_loss: 0.4943\n",
      "Epoch 19/100\n",
      "108/108 [==============================] - 5s 48ms/step - loss: 0.8960 - Output_Linear_loss: 0.2910 - Output_Sigmoid_loss: 0.1182 - Output_Layer_2_loss: 0.4868\n",
      "Epoch 20/100\n",
      "108/108 [==============================] - 4s 39ms/step - loss: 0.8942 - Output_Linear_loss: 0.2900 - Output_Sigmoid_loss: 0.1176 - Output_Layer_2_loss: 0.4866\n",
      "Epoch 21/100\n",
      "108/108 [==============================] - 4s 39ms/step - loss: 0.8917 - Output_Linear_loss: 0.2906 - Output_Sigmoid_loss: 0.1172 - Output_Layer_2_loss: 0.4839\n",
      "Epoch 22/100\n",
      "108/108 [==============================] - 4s 38ms/step - loss: 0.8804 - Output_Linear_loss: 0.2850 - Output_Sigmoid_loss: 0.1155 - Output_Layer_2_loss: 0.4799\n",
      "Epoch 23/100\n",
      "108/108 [==============================] - 4s 39ms/step - loss: 0.8680 - Output_Linear_loss: 0.2796 - Output_Sigmoid_loss: 0.1137 - Output_Layer_2_loss: 0.4747\n",
      "Epoch 24/100\n",
      "108/108 [==============================] - 4s 39ms/step - loss: 0.8633 - Output_Linear_loss: 0.2777 - Output_Sigmoid_loss: 0.1134 - Output_Layer_2_loss: 0.4723\n",
      "Epoch 25/100\n",
      "108/108 [==============================] - 4s 38ms/step - loss: 0.8640 - Output_Linear_loss: 0.2778 - Output_Sigmoid_loss: 0.1129 - Output_Layer_2_loss: 0.4733\n",
      "Epoch 26/100\n",
      "108/108 [==============================] - 4s 39ms/step - loss: 0.8613 - Output_Linear_loss: 0.2785 - Output_Sigmoid_loss: 0.1127 - Output_Layer_2_loss: 0.4702\n",
      "Epoch 27/100\n",
      "108/108 [==============================] - 4s 40ms/step - loss: 0.8711 - Output_Linear_loss: 0.2815 - Output_Sigmoid_loss: 0.1147 - Output_Layer_2_loss: 0.4750\n",
      "Epoch 28/100\n",
      "108/108 [==============================] - 4s 40ms/step - loss: 0.8545 - Output_Linear_loss: 0.2749 - Output_Sigmoid_loss: 0.1122 - Output_Layer_2_loss: 0.4674\n",
      "Epoch 29/100\n",
      "108/108 [==============================] - 4s 40ms/step - loss: 0.8364 - Output_Linear_loss: 0.2690 - Output_Sigmoid_loss: 0.1088 - Output_Layer_2_loss: 0.4586\n",
      "Epoch 30/100\n",
      "108/108 [==============================] - 5s 43ms/step - loss: 0.8251 - Output_Linear_loss: 0.2631 - Output_Sigmoid_loss: 0.1077 - Output_Layer_2_loss: 0.4543\n",
      "Epoch 31/100\n",
      "108/108 [==============================] - 5s 46ms/step - loss: 0.8433 - Output_Linear_loss: 0.2710 - Output_Sigmoid_loss: 0.1097 - Output_Layer_2_loss: 0.4627\n",
      "Epoch 32/100\n",
      "108/108 [==============================] - 4s 39ms/step - loss: 0.8269 - Output_Linear_loss: 0.2636 - Output_Sigmoid_loss: 0.1077 - Output_Layer_2_loss: 0.4556\n",
      "Epoch 33/100\n",
      "108/108 [==============================] - 4s 40ms/step - loss: 0.8203 - Output_Linear_loss: 0.2617 - Output_Sigmoid_loss: 0.1069 - Output_Layer_2_loss: 0.4518\n",
      "Epoch 34/100\n",
      "108/108 [==============================] - 4s 39ms/step - loss: 0.8104 - Output_Linear_loss: 0.2594 - Output_Sigmoid_loss: 0.1046 - Output_Layer_2_loss: 0.4464\n",
      "Epoch 35/100\n",
      "108/108 [==============================] - 4s 40ms/step - loss: 0.8198 - Output_Linear_loss: 0.2630 - Output_Sigmoid_loss: 0.1060 - Output_Layer_2_loss: 0.4508\n",
      "Epoch 36/100\n",
      "108/108 [==============================] - 5s 46ms/step - loss: 0.8214 - Output_Linear_loss: 0.2660 - Output_Sigmoid_loss: 0.1057 - Output_Layer_2_loss: 0.4498\n",
      "Epoch 37/100\n",
      "108/108 [==============================] - 5s 49ms/step - loss: 0.8014 - Output_Linear_loss: 0.2557 - Output_Sigmoid_loss: 0.1037 - Output_Layer_2_loss: 0.4421\n",
      "Epoch 38/100\n",
      "108/108 [==============================] - 5s 50ms/step - loss: 0.7965 - Output_Linear_loss: 0.2535 - Output_Sigmoid_loss: 0.1030 - Output_Layer_2_loss: 0.4399\n",
      "Epoch 39/100\n",
      "108/108 [==============================] - 5s 45ms/step - loss: 0.7964 - Output_Linear_loss: 0.2532 - Output_Sigmoid_loss: 0.1025 - Output_Layer_2_loss: 0.4407\n",
      "Epoch 40/100\n",
      "108/108 [==============================] - 4s 38ms/step - loss: 0.7940 - Output_Linear_loss: 0.2532 - Output_Sigmoid_loss: 0.1025 - Output_Layer_2_loss: 0.4383\n",
      "Epoch 41/100\n",
      "108/108 [==============================] - 4s 39ms/step - loss: 0.7990 - Output_Linear_loss: 0.2558 - Output_Sigmoid_loss: 0.1029 - Output_Layer_2_loss: 0.4403\n",
      "Epoch 42/100\n",
      "108/108 [==============================] - 4s 38ms/step - loss: 0.7859 - Output_Linear_loss: 0.2522 - Output_Sigmoid_loss: 0.1008 - Output_Layer_2_loss: 0.4329\n",
      "Epoch 43/100\n",
      "108/108 [==============================] - 4s 41ms/step - loss: 0.7758 - Output_Linear_loss: 0.2449 - Output_Sigmoid_loss: 0.1007 - Output_Layer_2_loss: 0.4302\n",
      "Epoch 44/100\n",
      "108/108 [==============================] - 5s 46ms/step - loss: 0.7761 - Output_Linear_loss: 0.2453 - Output_Sigmoid_loss: 0.0999 - Output_Layer_2_loss: 0.4309\n",
      "Epoch 45/100\n",
      "108/108 [==============================] - 4s 41ms/step - loss: 0.7650 - Output_Linear_loss: 0.2428 - Output_Sigmoid_loss: 0.0982 - Output_Layer_2_loss: 0.4241\n",
      "Epoch 46/100\n",
      "108/108 [==============================] - 4s 40ms/step - loss: 0.7635 - Output_Linear_loss: 0.2413 - Output_Sigmoid_loss: 0.0979 - Output_Layer_2_loss: 0.4243\n",
      "Epoch 47/100\n",
      "108/108 [==============================] - 4s 39ms/step - loss: 0.7643 - Output_Linear_loss: 0.2422 - Output_Sigmoid_loss: 0.0982 - Output_Layer_2_loss: 0.4239\n",
      "Epoch 48/100\n",
      "108/108 [==============================] - 4s 39ms/step - loss: 0.7590 - Output_Linear_loss: 0.2399 - Output_Sigmoid_loss: 0.0984 - Output_Layer_2_loss: 0.4208\n",
      "Epoch 49/100\n",
      "108/108 [==============================] - 4s 40ms/step - loss: 0.7613 - Output_Linear_loss: 0.2418 - Output_Sigmoid_loss: 0.0971 - Output_Layer_2_loss: 0.4223\n",
      "Epoch 50/100\n",
      "108/108 [==============================] - 5s 42ms/step - loss: 0.7543 - Output_Linear_loss: 0.2377 - Output_Sigmoid_loss: 0.0964 - Output_Layer_2_loss: 0.4203\n",
      "Epoch 51/100\n",
      "108/108 [==============================] - 4s 42ms/step - loss: 0.7513 - Output_Linear_loss: 0.2369 - Output_Sigmoid_loss: 0.0966 - Output_Layer_2_loss: 0.4179\n",
      "Epoch 52/100\n",
      "108/108 [==============================] - 5s 45ms/step - loss: 0.7542 - Output_Linear_loss: 0.2398 - Output_Sigmoid_loss: 0.0961 - Output_Layer_2_loss: 0.4182\n",
      "Epoch 53/100\n",
      "108/108 [==============================] - 5s 42ms/step - loss: 0.7459 - Output_Linear_loss: 0.2347 - Output_Sigmoid_loss: 0.0956 - Output_Layer_2_loss: 0.4156\n",
      "Epoch 54/100\n",
      "108/108 [==============================] - 4s 39ms/step - loss: 0.7687 - Output_Linear_loss: 0.2442 - Output_Sigmoid_loss: 0.0979 - Output_Layer_2_loss: 0.4267\n",
      "Epoch 55/100\n",
      "108/108 [==============================] - 4s 39ms/step - loss: 0.7623 - Output_Linear_loss: 0.2420 - Output_Sigmoid_loss: 0.0973 - Output_Layer_2_loss: 0.4230\n",
      "Epoch 56/100\n",
      "108/108 [==============================] - 4s 39ms/step - loss: 0.7517 - Output_Linear_loss: 0.2366 - Output_Sigmoid_loss: 0.0963 - Output_Layer_2_loss: 0.4188\n",
      "Epoch 57/100\n",
      "108/108 [==============================] - 4s 38ms/step - loss: 0.7511 - Output_Linear_loss: 0.2370 - Output_Sigmoid_loss: 0.0963 - Output_Layer_2_loss: 0.4178\n",
      "Epoch 58/100\n",
      "108/108 [==============================] - 4s 39ms/step - loss: 0.7456 - Output_Linear_loss: 0.2355 - Output_Sigmoid_loss: 0.0954 - Output_Layer_2_loss: 0.4147\n",
      "Epoch 59/100\n",
      "108/108 [==============================] - 4s 38ms/step - loss: 0.7388 - Output_Linear_loss: 0.2352 - Output_Sigmoid_loss: 0.0939 - Output_Layer_2_loss: 0.4097\n",
      "Epoch 60/100\n",
      "108/108 [==============================] - 4s 39ms/step - loss: 0.7296 - Output_Linear_loss: 0.2283 - Output_Sigmoid_loss: 0.0935 - Output_Layer_2_loss: 0.4078\n",
      "Epoch 61/100\n",
      "108/108 [==============================] - 4s 39ms/step - loss: 0.7453 - Output_Linear_loss: 0.2369 - Output_Sigmoid_loss: 0.0950 - Output_Layer_2_loss: 0.4133\n",
      "Epoch 62/100\n",
      "108/108 [==============================] - 4s 39ms/step - loss: 0.7332 - Output_Linear_loss: 0.2310 - Output_Sigmoid_loss: 0.0934 - Output_Layer_2_loss: 0.4089\n",
      "Epoch 63/100\n",
      "108/108 [==============================] - 5s 44ms/step - loss: 0.7401 - Output_Linear_loss: 0.2338 - Output_Sigmoid_loss: 0.0945 - Output_Layer_2_loss: 0.4118\n",
      "Epoch 64/100\n",
      "108/108 [==============================] - 5s 44ms/step - loss: 0.7242 - Output_Linear_loss: 0.2281 - Output_Sigmoid_loss: 0.0922 - Output_Layer_2_loss: 0.4039\n",
      "Epoch 65/100\n",
      "108/108 [==============================] - 5s 42ms/step - loss: 0.7188 - Output_Linear_loss: 0.2256 - Output_Sigmoid_loss: 0.0913 - Output_Layer_2_loss: 0.4019\n",
      "Epoch 66/100\n",
      "108/108 [==============================] - 5s 47ms/step - loss: 0.7206 - Output_Linear_loss: 0.2265 - Output_Sigmoid_loss: 0.0922 - Output_Layer_2_loss: 0.4020\n",
      "Epoch 67/100\n",
      "108/108 [==============================] - 5s 48ms/step - loss: 0.7302 - Output_Linear_loss: 0.2318 - Output_Sigmoid_loss: 0.0928 - Output_Layer_2_loss: 0.4056\n",
      "Epoch 68/100\n",
      "108/108 [==============================] - 5s 48ms/step - loss: 0.7289 - Output_Linear_loss: 0.2307 - Output_Sigmoid_loss: 0.0923 - Output_Layer_2_loss: 0.4059\n",
      "Epoch 69/100\n",
      "108/108 [==============================] - 5s 49ms/step - loss: 0.7242 - Output_Linear_loss: 0.2301 - Output_Sigmoid_loss: 0.0916 - Output_Layer_2_loss: 0.4024\n",
      "Epoch 70/100\n",
      "108/108 [==============================] - 5s 49ms/step - loss: 0.7034 - Output_Linear_loss: 0.2210 - Output_Sigmoid_loss: 0.0893 - Output_Layer_2_loss: 0.3931\n",
      "Epoch 71/100\n",
      "108/108 [==============================] - 6s 53ms/step - loss: 0.7143 - Output_Linear_loss: 0.2253 - Output_Sigmoid_loss: 0.0905 - Output_Layer_2_loss: 0.3984\n",
      "Epoch 72/100\n",
      "108/108 [==============================] - 5s 47ms/step - loss: 0.7299 - Output_Linear_loss: 0.2311 - Output_Sigmoid_loss: 0.0920 - Output_Layer_2_loss: 0.4067\n",
      "Epoch 73/100\n",
      "108/108 [==============================] - 6s 53ms/step - loss: 0.7045 - Output_Linear_loss: 0.2215 - Output_Sigmoid_loss: 0.0888 - Output_Layer_2_loss: 0.3942\n",
      "Epoch 74/100\n",
      "108/108 [==============================] - 4s 41ms/step - loss: 0.7082 - Output_Linear_loss: 0.2225 - Output_Sigmoid_loss: 0.0901 - Output_Layer_2_loss: 0.3956\n",
      "Epoch 75/100\n",
      "108/108 [==============================] - 5s 44ms/step - loss: 0.7134 - Output_Linear_loss: 0.2261 - Output_Sigmoid_loss: 0.0899 - Output_Layer_2_loss: 0.3974\n",
      "Epoch 76/100\n",
      "108/108 [==============================] - 5s 49ms/step - loss: 0.7180 - Output_Linear_loss: 0.2264 - Output_Sigmoid_loss: 0.0910 - Output_Layer_2_loss: 0.4005\n",
      "Epoch 77/100\n",
      "108/108 [==============================] - 5s 48ms/step - loss: 0.7108 - Output_Linear_loss: 0.2263 - Output_Sigmoid_loss: 0.0893 - Output_Layer_2_loss: 0.3952\n",
      "Epoch 78/100\n",
      "108/108 [==============================] - 5s 49ms/step - loss: 0.7197 - Output_Linear_loss: 0.2270 - Output_Sigmoid_loss: 0.0918 - Output_Layer_2_loss: 0.4009\n",
      "Epoch 79/100\n",
      "108/108 [==============================] - 5s 50ms/step - loss: 0.7198 - Output_Linear_loss: 0.2273 - Output_Sigmoid_loss: 0.0913 - Output_Layer_2_loss: 0.4011\n",
      "Epoch 80/100\n",
      "108/108 [==============================] - 5s 48ms/step - loss: 0.6962 - Output_Linear_loss: 0.2183 - Output_Sigmoid_loss: 0.0883 - Output_Layer_2_loss: 0.3896\n",
      "Epoch 81/100\n",
      "108/108 [==============================] - 5s 49ms/step - loss: 0.6950 - Output_Linear_loss: 0.2182 - Output_Sigmoid_loss: 0.0878 - Output_Layer_2_loss: 0.3889\n",
      "Epoch 82/100\n",
      "108/108 [==============================] - 6s 55ms/step - loss: 0.7001 - Output_Linear_loss: 0.2193 - Output_Sigmoid_loss: 0.0886 - Output_Layer_2_loss: 0.3922\n",
      "Epoch 83/100\n",
      "108/108 [==============================] - 5s 48ms/step - loss: 0.6933 - Output_Linear_loss: 0.2194 - Output_Sigmoid_loss: 0.0872 - Output_Layer_2_loss: 0.3867\n",
      "Epoch 84/100\n",
      "108/108 [==============================] - 4s 41ms/step - loss: 0.6945 - Output_Linear_loss: 0.2189 - Output_Sigmoid_loss: 0.0878 - Output_Layer_2_loss: 0.3878\n",
      "Epoch 85/100\n",
      "108/108 [==============================] - 5s 45ms/step - loss: 0.6865 - Output_Linear_loss: 0.2153 - Output_Sigmoid_loss: 0.0865 - Output_Layer_2_loss: 0.3847\n",
      "Epoch 86/100\n",
      "108/108 [==============================] - 4s 40ms/step - loss: 0.7005 - Output_Linear_loss: 0.2218 - Output_Sigmoid_loss: 0.0880 - Output_Layer_2_loss: 0.3907\n",
      "Epoch 87/100\n",
      "108/108 [==============================] - 4s 40ms/step - loss: 0.6883 - Output_Linear_loss: 0.2149 - Output_Sigmoid_loss: 0.0868 - Output_Layer_2_loss: 0.3865\n",
      "Epoch 88/100\n",
      "108/108 [==============================] - 4s 41ms/step - loss: 0.7028 - Output_Linear_loss: 0.2224 - Output_Sigmoid_loss: 0.0890 - Output_Layer_2_loss: 0.3914\n",
      "Epoch 89/100\n",
      "108/108 [==============================] - 4s 40ms/step - loss: 0.7019 - Output_Linear_loss: 0.2176 - Output_Sigmoid_loss: 0.0895 - Output_Layer_2_loss: 0.3948\n",
      "Epoch 90/100\n",
      "108/108 [==============================] - 4s 41ms/step - loss: 0.6916 - Output_Linear_loss: 0.2208 - Output_Sigmoid_loss: 0.0864 - Output_Layer_2_loss: 0.3844\n",
      "Epoch 91/100\n",
      "108/108 [==============================] - 4s 39ms/step - loss: 0.6969 - Output_Linear_loss: 0.2190 - Output_Sigmoid_loss: 0.0876 - Output_Layer_2_loss: 0.3903\n",
      "Epoch 92/100\n",
      "108/108 [==============================] - 4s 41ms/step - loss: 0.6820 - Output_Linear_loss: 0.2143 - Output_Sigmoid_loss: 0.0856 - Output_Layer_2_loss: 0.3822\n",
      "Epoch 93/100\n",
      "108/108 [==============================] - 5s 44ms/step - loss: 0.6819 - Output_Linear_loss: 0.2153 - Output_Sigmoid_loss: 0.0859 - Output_Layer_2_loss: 0.3807\n",
      "Epoch 94/100\n",
      "108/108 [==============================] - 5s 43ms/step - loss: 0.6973 - Output_Linear_loss: 0.2201 - Output_Sigmoid_loss: 0.0873 - Output_Layer_2_loss: 0.3898\n",
      "Epoch 95/100\n",
      "108/108 [==============================] - 5s 42ms/step - loss: 0.6837 - Output_Linear_loss: 0.2133 - Output_Sigmoid_loss: 0.0861 - Output_Layer_2_loss: 0.3843\n",
      "Epoch 96/100\n",
      "108/108 [==============================] - 4s 41ms/step - loss: 0.6717 - Output_Linear_loss: 0.2098 - Output_Sigmoid_loss: 0.0842 - Output_Layer_2_loss: 0.3776\n",
      "Epoch 97/100\n",
      "108/108 [==============================] - 5s 42ms/step - loss: 0.6609 - Output_Linear_loss: 0.2063 - Output_Sigmoid_loss: 0.0829 - Output_Layer_2_loss: 0.3716\n",
      "Epoch 98/100\n",
      "108/108 [==============================] - 4s 38ms/step - loss: 0.6781 - Output_Linear_loss: 0.2139 - Output_Sigmoid_loss: 0.0850 - Output_Layer_2_loss: 0.3792\n",
      "Epoch 99/100\n",
      "108/108 [==============================] - 4s 38ms/step - loss: 0.6928 - Output_Linear_loss: 0.2203 - Output_Sigmoid_loss: 0.0866 - Output_Layer_2_loss: 0.3859\n",
      "Epoch 100/100\n",
      "108/108 [==============================] - 4s 42ms/step - loss: 0.6630 - Output_Linear_loss: 0.2068 - Output_Sigmoid_loss: 0.0832 - Output_Layer_2_loss: 0.3730\n",
      "Training took 7.938597138722738 minutes.\n"
     ]
    }
   ],
   "source": [
    "start_time = time()\n",
    "history = model.fit(X_train, [YL_train, YB_train, Y2_train], epochs=1000, batch_size=256)\n",
    "print(\"Training took\",(time()-start_time)/60,\"minutes.\")"
   ]
  },
  {
   "cell_type": "code",
   "execution_count": 29,
   "metadata": {},
   "outputs": [
    {
     "name": "stdout",
     "output_type": "stream",
     "text": [
      "216/216 [==============================] - 1s 5ms/step - loss: 0.7542 - Output_Linear_loss: 0.2478 - Output_Sigmoid_loss: 0.0909 - Output_Layer_2_loss: 0.4155\n",
      "216/216 [==============================] - 1s 5ms/step\n",
      "862/862 [==============================] - 4s 5ms/step\n",
      "862/862 [==============================] - 4s 5ms/step\n"
     ]
    }
   ],
   "source": [
    "losses = model.evaluate(X_test, [YL_test, YB_test, Y2_test])\n",
    "# Predict using the test set\n",
    "YL_pred, YB_pred, Y2_pred = model.predict(X_test)\n",
    "\n",
    "# Inverse transform to rescale predictions back to original scale\n",
    "\n",
    "yL_train_pred = YL_scaler.inverse_transform(model.predict(X_train)[0])\n",
    "yL_train_true = YL_scaler.inverse_transform(YL_train)\n",
    "\n",
    "y2_train_pred = Y2_scaler.inverse_transform(model.predict(X_train)[2])\n",
    "y2_train_true = Y2_scaler.inverse_transform(Y2_train)\n",
    "\n",
    "yL_test_pred = YL_scaler.inverse_transform(YL_pred)\n",
    "yL_test_true = YL_scaler.inverse_transform(YL_test)\n",
    "\n",
    "y2_test_pred = Y2_scaler.inverse_transform(Y2_pred)\n",
    "y2_test_true = Y2_scaler.inverse_transform(Y2_test)"
   ]
  },
  {
   "cell_type": "code",
   "execution_count": 30,
   "metadata": {},
   "outputs": [
    {
     "name": "stdout",
     "output_type": "stream",
     "text": [
      "Evaluation metrics for YL (train):\n",
      "MAE (YL train): 209.9482858160222\n",
      "MAPE (YL train): inf%\n",
      "MSE (YL train): 733399.9348293572\n",
      "RMSE (YL train): 856.3877245905369\n",
      "R² (YL train): 0.7954662973909662\n",
      "\n",
      "Evaluation metrics for YL (test):\n",
      "MAE (YL test): 211.88929219665428\n",
      "MAPE (YL test): inf%\n",
      "MSE (YL test): 758490.2149394511\n",
      "RMSE (YL test): 870.9134371104002\n",
      "R² (YL test): 0.7654285235180793\n",
      "\n",
      "Evaluation metrics for Y2 (train):\n",
      "MAE (Y2 train): 0.012567603786502273\n",
      "MAPE (Y2 train): inf%\n",
      "MSE (Y2 train): 0.0004313519305882471\n",
      "RMSE (Y2 train): 0.020769013712457485\n",
      "R² (Y2 train): 0.6250939989689624\n",
      "\n",
      "Evaluation metrics for Y2 (test):\n",
      "MAE (Y2 test): 0.013174519978556055\n",
      "MAPE (Y2 test): inf%\n",
      "MSE (Y2 test): 0.0004753281423928066\n",
      "RMSE (Y2 test): 0.021802021520785787\n",
      "R² (Y2 test): 0.5880624851982761\n"
     ]
    },
    {
     "name": "stderr",
     "output_type": "stream",
     "text": [
      "C:\\Users\\Omer\\AppData\\Local\\Temp\\ipykernel_20548\\4037580787.py:2: RuntimeWarning: divide by zero encountered in true_divide\n",
      "  mape_yL_train = np.mean(np.abs((yL_train_true - yL_train_pred) / yL_train_true)) * 100\n",
      "C:\\Users\\Omer\\AppData\\Local\\Temp\\ipykernel_20548\\4037580787.py:9: RuntimeWarning: divide by zero encountered in true_divide\n",
      "  mape_yL_test = np.mean(np.abs((yL_test_true - yL_test_pred) / yL_test_true)) * 100\n",
      "C:\\Users\\Omer\\AppData\\Local\\Temp\\ipykernel_20548\\4037580787.py:16: RuntimeWarning: divide by zero encountered in true_divide\n",
      "  mape_y2_train = np.mean(np.abs((y2_train_true - y2_train_pred) / y2_train_true)) * 100\n",
      "C:\\Users\\Omer\\AppData\\Local\\Temp\\ipykernel_20548\\4037580787.py:23: RuntimeWarning: divide by zero encountered in true_divide\n",
      "  mape_y2_test = np.mean(np.abs((y2_test_true - y2_test_pred) / y2_test_true)) * 100\n"
     ]
    }
   ],
   "source": [
    "mae_yL_train = mean_absolute_error(yL_train_true, yL_train_pred)\n",
    "mape_yL_train = np.mean(np.abs((yL_train_true - yL_train_pred) / yL_train_true)) * 100\n",
    "mse_yL_train = mean_squared_error(yL_train_true, yL_train_pred)\n",
    "rmse_yL_train = np.sqrt(mse_yL_train)\n",
    "r2_yL_train = r2_score(yL_train_true, yL_train_pred)\n",
    "\n",
    "# Calculate MAE, MAPE, MSE, RMSE, and R² for YL_test\n",
    "mae_yL_test = mean_absolute_error(yL_test_true, yL_test_pred)\n",
    "mape_yL_test = np.mean(np.abs((yL_test_true - yL_test_pred) / yL_test_true)) * 100\n",
    "mse_yL_test = mean_squared_error(yL_test_true, yL_test_pred)\n",
    "rmse_yL_test = np.sqrt(mse_yL_test)\n",
    "r2_yL_test = r2_score(yL_test_true, yL_test_pred)\n",
    "\n",
    "# Calculate MAE, MAPE, MSE, RMSE, and R² for Y2_train\n",
    "mae_y2_train = mean_absolute_error(y2_train_true, y2_train_pred)\n",
    "mape_y2_train = np.mean(np.abs((y2_train_true - y2_train_pred) / y2_train_true)) * 100\n",
    "mse_y2_train = mean_squared_error(y2_train_true, y2_train_pred)\n",
    "rmse_y2_train = np.sqrt(mse_y2_train)\n",
    "r2_y2_train = r2_score(y2_train_true, y2_train_pred)\n",
    "\n",
    "# Calculate MAE, MAPE, MSE, RMSE, and R² for Y2_test\n",
    "mae_y2_test = mean_absolute_error(y2_test_true, y2_test_pred)\n",
    "mape_y2_test = np.mean(np.abs((y2_test_true - y2_test_pred) / y2_test_true)) * 100\n",
    "mse_y2_test = mean_squared_error(y2_test_true, y2_test_pred)\n",
    "rmse_y2_test = np.sqrt(mse_y2_test)\n",
    "r2_y2_test = r2_score(y2_test_true, y2_test_pred)\n",
    "\n",
    "# Print the evaluation metrics in the specified order\n",
    "print(\"Evaluation metrics for YL (train):\")\n",
    "print(f\"MAE (YL train): {mae_yL_train}\")\n",
    "print(f\"MAPE (YL train): {mape_yL_train}%\")\n",
    "print(f\"MSE (YL train): {mse_yL_train}\")\n",
    "print(f\"RMSE (YL train): {rmse_yL_train}\")\n",
    "print(f\"R² (YL train): {r2_yL_train}\")\n",
    "\n",
    "print(\"\\nEvaluation metrics for YL (test):\")\n",
    "print(f\"MAE (YL test): {mae_yL_test}\")\n",
    "print(f\"MAPE (YL test): {mape_yL_test}%\")\n",
    "print(f\"MSE (YL test): {mse_yL_test}\")\n",
    "print(f\"RMSE (YL test): {rmse_yL_test}\")\n",
    "print(f\"R² (YL test): {r2_yL_test}\")\n",
    "\n",
    "print(\"\\nEvaluation metrics for Y2 (train):\")\n",
    "print(f\"MAE (Y2 train): {mae_y2_train}\")\n",
    "print(f\"MAPE (Y2 train): {mape_y2_train}%\")\n",
    "print(f\"MSE (Y2 train): {mse_y2_train}\")\n",
    "print(f\"RMSE (Y2 train): {rmse_y2_train}\")\n",
    "print(f\"R² (Y2 train): {r2_y2_train}\")\n",
    "\n",
    "print(\"\\nEvaluation metrics for Y2 (test):\")\n",
    "print(f\"MAE (Y2 test): {mae_y2_test}\")\n",
    "print(f\"MAPE (Y2 test): {mape_y2_test}%\")\n",
    "print(f\"MSE (Y2 test): {mse_y2_test}\")\n",
    "print(f\"RMSE (Y2 test): {rmse_y2_test}\")\n",
    "print(f\"R² (Y2 test): {r2_y2_test}\")"
   ]
  },
  {
   "cell_type": "code",
   "execution_count": 31,
   "metadata": {},
   "outputs": [
    {
     "name": "stdout",
     "output_type": "stream",
     "text": [
      "     Column  Accuracy\n",
      "0  Column_1  1.000000\n",
      "1  Column_2  0.997535\n",
      "2  Column_3  0.978103\n",
      "3  Column_4  0.916183\n",
      "4  Column_5  0.993329\n",
      "5  Column_6  0.959832\n",
      "6  Column_7  0.937065\n",
      "7  Column_8  0.959687\n"
     ]
    }
   ],
   "source": [
    "from sklearn.metrics import accuracy_score\n",
    "\n",
    "# Ensure YB_pred is binary (0 or 1)\n",
    "YB_pred_binary = (YB_pred >= 0.5).astype(int)\n",
    "\n",
    "# List to store accuracies for each column\n",
    "accuracies = []\n",
    "\n",
    "# Loop through each column in Y2_test (assumed to be a DataFrame)\n",
    "for i in range(YB_test.shape[1]):\n",
    "    # Use .iloc to select the i-th column of Y2_test and YB_pred_binary\n",
    "    accuracy = accuracy_score(YB_test[:, i], YB_pred_binary[:, i])\n",
    "    accuracies.append(accuracy)\n",
    "\n",
    "# Create a DataFrame with accuracies\n",
    "accuracy_df = pd.DataFrame({\n",
    "    'Column': [f'Column_{i+1}' for i in range(YB_test.shape[1])],\n",
    "    'Accuracy': accuracies\n",
    "})\n",
    "\n",
    "print(accuracy_df)"
   ]
  },
  {
   "cell_type": "code",
   "execution_count": 32,
   "metadata": {},
   "outputs": [
    {
     "data": {
      "image/png": "[encoded data removed]",
      "text/plain": [
       "<Figure size 1200x600 with 1 Axes>"
      ]
     },
     "metadata": {},
     "output_type": "display_data"
    }
   ],
   "source": [
    "# Extract loss values from history\n",
    "train_loss_yl = history.history['Output_Linear_loss']\n",
    "train_loss_yb = history.history['Output_Sigmoid_loss']\n",
    "train_loss_y2 = history.history['Output_Layer_2_loss']\n",
    "total_loss = history.history['loss']\n",
    "\n",
    "# Plot training losses\n",
    "plt.figure(figsize=(12, 6))\n",
    "plt.plot(train_loss_yl, label=r'Training Loss ($Y_{L}$)')\n",
    "plt.plot(train_loss_yb, label=r'Training Loss ($Y_{B}$)')\n",
    "plt.plot(train_loss_y2, label=r'Training Loss ($Y_{2}$)')\n",
    "plt.plot(total_loss, label=r'Training Loss ($Y_{L} + Y_{B} + Y_{2}$)')\n",
    "plt.title('Training Losses')\n",
    "plt.xlabel('Epochs')\n",
    "plt.ylabel('Loss')\n",
    "plt.legend()\n",
    "plt.savefig('training_losses.png', dpi=300, bbox_inches='tight')\n",
    "plt.show()\n"
   ]
  }
 ],
 "metadata": {
  "kernelspec": {
   "display_name": "Python 3",
   "language": "python",
   "name": "python3"
  },
  "language_info": {
   "codemirror_mode": {
    "name": "ipython",
    "version": 3
   },
   "file_extension": ".py",
   "mimetype": "text/x-python",
   "name": "python",
   "nbconvert_exporter": "python",
   "pygments_lexer": "ipython3",
   "version": "3.9.4"
  }
 },
 "nbformat": 4,
 "nbformat_minor": 2
}
